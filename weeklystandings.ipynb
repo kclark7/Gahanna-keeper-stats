{
 "cells": [
  {
   "cell_type": "code",
   "execution_count": 29,
   "metadata": {},
   "outputs": [],
   "source": [
    "import requests"
   ]
  },
  {
   "cell_type": "code",
   "execution_count": 30,
   "metadata": {},
   "outputs": [
    {
     "name": "stdout",
     "output_type": "stream",
     "text": [
      "862014869296259072\n"
     ]
    }
   ],
   "source": [
    "league_id = \"987184202988711936\" #Gahanna Keeper\n",
    "sleeper_api = 'https://api.sleeper.app/v1/league/'\n",
    "league = requests.get(sleeper_api + league_id).json()\n",
    "print(league['previous_league_id'])\n",
    "league_id = league['previous_league_id']"
   ]
  },
  {
   "cell_type": "code",
   "execution_count": 31,
   "metadata": {},
   "outputs": [],
   "source": [
    "gahanna_api = sleeper_api + league_id\n",
    "users = requests.get(gahanna_api + '/users').json()"
   ]
  },
  {
   "cell_type": "code",
   "execution_count": 32,
   "metadata": {},
   "outputs": [],
   "source": [
    "for user in users:\n",
    "    user['standings_points'] = 0\n",
    "\n",
    "\n"
   ]
  },
  {
   "cell_type": "code",
   "execution_count": 33,
   "metadata": {},
   "outputs": [],
   "source": [
    "rosters = requests.get(gahanna_api + '/rosters').json()\n"
   ]
  },
  {
   "cell_type": "code",
   "execution_count": 34,
   "metadata": {},
   "outputs": [],
   "source": [
    "for roster in rosters:\n",
    "    roster['weekly_points_score'] = 0"
   ]
  },
  {
   "cell_type": "code",
   "execution_count": 35,
   "metadata": {},
   "outputs": [],
   "source": [
    "weekly_points = {}\n",
    "#weekly_points[1] = 1"
   ]
  },
  {
   "cell_type": "code",
   "execution_count": 36,
   "metadata": {},
   "outputs": [
    {
     "name": "stdout",
     "output_type": "stream",
     "text": [
      "{1: [{1: 91.9}, {2: 138.85}, {3: 137.9}, {4: 77.0}, {5: 95.05}, {6: 103.05}, {7: 104.6}, {8: 122.5}, {9: 106.65}, {10: 100.95}, {11: 131.35}, {12: 157.35}], 2: [{1: 100.35}, {2: 131.15}, {3: 126.15}, {4: 74.9}, {5: 169.05}, {6: 154.8}, {7: 106.4}, {8: 118.45}, {9: 131.4}, {10: 92.4}, {11: 130.3}, {12: 94.65}], 3: [{1: 91.35}, {2: 129.7}, {3: 121.0}, {4: 96.95}, {5: 115.4}, {6: 127.35}, {7: 95.35}, {8: 77.8}, {9: 85.75}, {10: 105.1}, {11: 124.4}, {12: 97.5}], 4: [{1: 143.95}, {2: 138.3}, {3: 126.35}, {4: 166.2}, {5: 108.85}, {6: 81.6}, {7: 121.05}, {8: 132.75}, {9: 137.6}, {10: 114.05}, {11: 105.2}, {12: 124.25}], 5: [{1: 102.35}, {2: 116.95}, {3: 141.1}, {4: 151.85}, {5: 70.2}, {6: 123.85}, {7: 95.95}, {8: 118.8}, {9: 93.1}, {10: 101.4}, {11: 112.0}, {12: 160.75}], 6: [{1: 125.7}, {2: 115.95}, {3: 107.5}, {4: 107.55}, {5: 85.1}, {6: 82.05}, {7: 80.65}, {8: 105.4}, {9: 116.6}, {10: 89.0}, {11: 88.3}, {12: 136.85}], 7: [{1: 146.85}, {2: 62.8}, {3: 112.25}, {4: 127.75}, {5: 104.6}, {6: 85.45}, {7: 116.9}, {8: 115.3}, {9: 115.55}, {10: 104.2}, {11: 120.3}, {12: 86.0}], 8: [{1: 130.4}, {2: 148.55}, {3: 84.5}, {4: 95.1}, {5: 132.6}, {6: 137.8}, {7: 124.35}, {8: 129.95}, {9: 129.45}, {10: 176.6}, {11: 123.5}, {12: 95.6}], 9: [{1: 75.5}, {2: 86.25}, {3: 125.8}, {4: 81.75}, {5: 94.1}, {6: 136.85}, {7: 98.9}, {8: 115.95}, {9: 159.85}, {10: 111.1}, {11: 74.15}, {12: 116.05}], 10: [{1: 116.3}, {2: 106.85}, {3: 123.95}, {4: 120.85}, {5: 104.45}, {6: 116.45}, {7: 120.35}, {8: 125.5}, {9: 93.6}, {10: 119.25}, {11: 105.75}, {12: 149.3}], 11: [{1: 116.65}, {2: 108.0}, {3: 118.05}, {4: 115.3}, {5: 116.35}, {6: 116.15}, {7: 110.65}, {8: 139.75}, {9: 105.4}, {10: 96.05}, {11: 67.45}, {12: 106.15}], 12: [{1: 126.1}, {2: 130.45}, {3: 118.4}, {4: 102.75}, {5: 125.65}, {6: 95.15}, {7: 119.8}, {8: 112.3}, {9: 130.8}, {10: 102.85}, {11: 115.0}, {12: 144.4}], 13: [{1: 98.8}, {2: 160.0}, {3: 120.35}, {4: 98.5}, {5: 93.85}, {6: 90.4}, {7: 90.45}, {8: 154.85}, {9: 102.95}, {10: 139.85}, {11: 86.65}, {12: 133.05}], 14: [{1: 68.55}, {2: 138.05}, {3: 124.4}, {4: 88.1}, {5: 48.85}, {6: 66.45}, {7: 113.45}, {8: 104.5}, {9: 139.65}, {10: 97.75}, {11: 116.3}, {12: 116.35}]}\n"
     ]
    }
   ],
   "source": [
    "for week in range(1,15):\n",
    "    weekly_points[week] = []\n",
    "    matchups = requests.get(gahanna_api + '/matchups/' + str(week)).json()\n",
    "    for match in matchups:\n",
    "        weekly_points[week].append({match['roster_id'] : match['points']})\n",
    "print(weekly_points)"
   ]
  },
  {
   "cell_type": "code",
   "execution_count": 37,
   "metadata": {},
   "outputs": [],
   "source": [
    "scores = {\n",
    "    1:[],\n",
    "    2:[],\n",
    "    3:[],\n",
    "    4:[],\n",
    "    5:[],\n",
    "    6:[],\n",
    "    7:[],\n",
    "    8:[],\n",
    "    9:[],\n",
    "    10:[],\n",
    "    11:[],\n",
    "    12:[],\n",
    "    13:[],\n",
    "    14:[]\n",
    "    }"
   ]
  },
  {
   "cell_type": "code",
   "execution_count": 38,
   "metadata": {},
   "outputs": [],
   "source": [
    "for week in weekly_points:\n",
    "    scores[week] = []\n",
    "    for roster in range (12):\n",
    "        scores[week].append(weekly_points[week][roster][roster+1])\n",
    "    scores[week].sort()\n",
    "\n",
    "\n",
    "    #for roster in weekly_points[week]:\n",
    "     #   print(scores)\n",
    "        #for scores in weekly_points[week][roster]:\n",
    "         #   print(scores)\n",
    "          #  print(weekly_points[week][roster][scores])\n",
    "        "
   ]
  },
  {
   "cell_type": "code",
   "execution_count": 39,
   "metadata": {},
   "outputs": [],
   "source": [
    "for week in range (1,15):\n",
    "    matchups = requests.get(gahanna_api + '/matchups/' + str(week)).json()\n",
    "    for roster in rosters:\n",
    "        for match in matchups:\n",
    "            if roster['roster_id'] == match['roster_id']:\n",
    "                roster['weekly_points_score'] += scores[week].index(match['points']) + 1"
   ]
  },
  {
   "cell_type": "code",
   "execution_count": 40,
   "metadata": {},
   "outputs": [],
   "source": [
    "for user in users:\n",
    "    for roster in rosters:\n",
    "        if roster['owner_id'] == user['user_id']:\n",
    "            user['standings_points'] += roster['weekly_points_score']"
   ]
  },
  {
   "cell_type": "code",
   "execution_count": 41,
   "metadata": {},
   "outputs": [],
   "source": [
    "for user in users:\n",
    "    for roster in rosters:\n",
    "        if roster['owner_id'] == user['user_id']:\n",
    "            user['standings_points'] += roster['settings']['wins'] * 13\n",
    "            #user['standings_points'] += roster['settings']['ties'] * 0.5"
   ]
  },
  {
   "cell_type": "code",
   "execution_count": 42,
   "metadata": {},
   "outputs": [],
   "source": [
    "standings = {}"
   ]
  },
  {
   "cell_type": "code",
   "execution_count": 43,
   "metadata": {},
   "outputs": [
    {
     "name": "stdout",
     "output_type": "stream",
     "text": [
      "pottluke\n",
      "194\n",
      "kclark75\n",
      "156\n",
      "blainehunkins\n",
      "125\n",
      "samshov\n",
      "255\n",
      "eferns14\n",
      "153\n",
      "MaxamillionG\n",
      "185\n",
      "frazdegod\n",
      "172\n",
      "CallmeDaddy69\n",
      "207\n",
      "Ecamm\n",
      "217\n",
      "sirbuzzington\n",
      "154\n",
      "rollconnor7\n",
      "150\n",
      "JustinCapriotti\n",
      "216\n"
     ]
    }
   ],
   "source": [
    "for user in users:\n",
    "    print(user['display_name'])\n",
    "    print(user['standings_points'])\n",
    "    standings[user['display_name']] = user['standings_points']"
   ]
  },
  {
   "cell_type": "code",
   "execution_count": 44,
   "metadata": {},
   "outputs": [],
   "source": [
    "standings = sorted(standings.items(), key=lambda x: x[1], reverse=True)"
   ]
  },
  {
   "cell_type": "code",
   "execution_count": 45,
   "metadata": {},
   "outputs": [
    {
     "name": "stdout",
     "output_type": "stream",
     "text": [
      "('samshov', 255)\n",
      "('Ecamm', 217)\n",
      "('JustinCapriotti', 216)\n",
      "('CallmeDaddy69', 207)\n",
      "('pottluke', 194)\n",
      "('MaxamillionG', 185)\n",
      "('frazdegod', 172)\n",
      "('kclark75', 156)\n",
      "('sirbuzzington', 154)\n",
      "('eferns14', 153)\n",
      "('rollconnor7', 150)\n",
      "('blainehunkins', 125)\n"
     ]
    }
   ],
   "source": [
    "for user in range (12):\n",
    "    print(standings[user])"
   ]
  }
 ],
 "metadata": {
  "kernelspec": {
   "display_name": "ds",
   "language": "python",
   "name": "python3"
  },
  "language_info": {
   "codemirror_mode": {
    "name": "ipython",
    "version": 3
   },
   "file_extension": ".py",
   "mimetype": "text/x-python",
   "name": "python",
   "nbconvert_exporter": "python",
   "pygments_lexer": "ipython3",
   "version": "3.10.12"
  },
  "orig_nbformat": 4
 },
 "nbformat": 4,
 "nbformat_minor": 2
}
