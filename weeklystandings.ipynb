{
 "cells": [
  {
   "cell_type": "code",
   "execution_count": 1,
   "metadata": {},
   "outputs": [],
   "source": [
    "import requests"
   ]
  },
  {
   "cell_type": "code",
   "execution_count": 2,
   "metadata": {},
   "outputs": [],
   "source": [
    "league_id = \"1123823767781732352\" #Gahanna Keeper\n",
    "sleeper_api = 'https://api.sleeper.app/v1/league/'\n",
    "league = requests.get(sleeper_api + league_id).json()\n",
    "#print(league['previous_league_id'])\n",
    "#league_id = league['previous_league_id']"
   ]
  },
  {
   "cell_type": "code",
   "execution_count": 3,
   "metadata": {},
   "outputs": [],
   "source": [
    "gahanna_api = sleeper_api + league_id\n",
    "users = requests.get(gahanna_api + '/users').json()"
   ]
  },
  {
   "cell_type": "code",
   "execution_count": 4,
   "metadata": {},
   "outputs": [],
   "source": [
    "for user in users:\n",
    "    user['standings_points'] = 0\n",
    "\n",
    "\n"
   ]
  },
  {
   "cell_type": "code",
   "execution_count": 5,
   "metadata": {},
   "outputs": [],
   "source": [
    "rosters = requests.get(gahanna_api + '/rosters').json()\n"
   ]
  },
  {
   "cell_type": "code",
   "execution_count": 6,
   "metadata": {},
   "outputs": [],
   "source": [
    "for roster in rosters:\n",
    "    roster['weekly_points_score'] = 0"
   ]
  },
  {
   "cell_type": "code",
   "execution_count": 7,
   "metadata": {},
   "outputs": [],
   "source": [
    "weekly_points = {}\n",
    "#weekly_points[1] = 1"
   ]
  },
  {
   "cell_type": "code",
   "execution_count": 8,
   "metadata": {},
   "outputs": [
    {
     "name": "stdout",
     "output_type": "stream",
     "text": [
      "{1: [{1: 88.55}, {2: 120.4}, {3: 97.2}, {4: 88.7}, {5: 117.7}, {6: 117.65}, {7: 86.4}, {8: 142.55}, {9: 105.5}, {10: 150.5}, {11: 105.4}, {12: 66.75}], 2: [{1: 99.65}, {2: 110.65}, {3: 139.0}, {4: 74.8}, {5: 132.4}, {6: 104.25}, {7: 107.7}, {8: 138.75}, {9: 109.3}, {10: 80.0}, {11: 109.95}, {12: 110.65}], 3: [{1: 128.65}, {2: 90.15}, {3: 127.9}, {4: 90.45}, {5: 89.55}, {6: 97.85}, {7: 127.5}, {8: 119.05}, {9: 82.55}, {10: 95.45}, {11: 128.55}, {12: 155.35}], 4: [{1: 0.0}, {2: 0.0}, {3: 0.0}, {4: 0.0}, {5: 0.0}, {6: 0.0}, {7: 0.0}, {8: 0.0}, {9: 0.0}, {10: 0.0}, {11: 0.0}, {12: 0.0}], 5: [{1: 0.0}, {2: 0.0}, {3: 0.0}, {4: 0.0}, {5: 0.0}, {6: 0.0}, {7: 0.0}, {8: 0.0}, {9: 0.0}, {10: 0.0}, {11: 0.0}, {12: 0.0}], 6: [{1: 0.0}, {2: 0.0}, {3: 0.0}, {4: 0.0}, {5: 0.0}, {6: 0.0}, {7: 0.0}, {8: 0.0}, {9: 0.0}, {10: 0.0}, {11: 0.0}, {12: 0.0}], 7: [{1: 0.0}, {2: 0.0}, {3: 0.0}, {4: 0.0}, {5: 0.0}, {6: 0.0}, {7: 0.0}, {8: 0.0}, {9: 0.0}, {10: 0.0}, {11: 0.0}, {12: 0.0}], 8: [{1: 0.0}, {2: 0.0}, {3: 0.0}, {4: 0.0}, {5: 0.0}, {6: 0.0}, {7: 0.0}, {8: 0.0}, {9: 0.0}, {10: 0.0}, {11: 0.0}, {12: 0.0}], 9: [{1: 0.0}, {2: 0.0}, {3: 0.0}, {4: 0.0}, {5: 0.0}, {6: 0.0}, {7: 0.0}, {8: 0.0}, {9: 0.0}, {10: 0.0}, {11: 0.0}, {12: 0.0}], 10: [{1: 0.0}, {2: 0.0}, {3: 0.0}, {4: 0.0}, {5: 0.0}, {6: 0.0}, {7: 0.0}, {8: 0.0}, {9: 0.0}, {10: 0.0}, {11: 0.0}, {12: 0.0}], 11: [{1: 0.0}, {2: 0.0}, {3: 0.0}, {4: 0.0}, {5: 0.0}, {6: 0.0}, {7: 0.0}, {8: 0.0}, {9: 0.0}, {10: 0.0}, {11: 0.0}, {12: 0.0}], 12: [{1: 0.0}, {2: 0.0}, {3: 0.0}, {4: 0.0}, {5: 0.0}, {6: 0.0}, {7: 0.0}, {8: 0.0}, {9: 0.0}, {10: 0.0}, {11: 0.0}, {12: 0.0}], 13: [{1: 0.0}, {2: 0.0}, {3: 0.0}, {4: 0.0}, {5: 0.0}, {6: 0.0}, {7: 0.0}, {8: 0.0}, {9: 0.0}, {10: 0.0}, {11: 0.0}, {12: 0.0}], 14: [{1: 0.0}, {2: 0.0}, {3: 0.0}, {4: 0.0}, {5: 0.0}, {6: 0.0}, {7: 0.0}, {8: 0.0}, {9: 0.0}, {10: 0.0}, {11: 0.0}, {12: 0.0}]}\n"
     ]
    }
   ],
   "source": [
    "for week in range(1,15):\n",
    "    weekly_points[week] = []\n",
    "    matchups = requests.get(gahanna_api + '/matchups/' + str(week)).json()\n",
    "    for match in matchups:\n",
    "        weekly_points[week].append({match['roster_id'] : match['points']})\n",
    "print(weekly_points)"
   ]
  },
  {
   "cell_type": "code",
   "execution_count": 9,
   "metadata": {},
   "outputs": [],
   "source": [
    "scores = {\n",
    "    1:[],\n",
    "    2:[],\n",
    "    3:[],\n",
    "    4:[],\n",
    "    5:[],\n",
    "    6:[],\n",
    "    7:[],\n",
    "    8:[],\n",
    "    9:[],\n",
    "    10:[],\n",
    "    11:[],\n",
    "    12:[],\n",
    "    13:[],\n",
    "    14:[]\n",
    "    }"
   ]
  },
  {
   "cell_type": "code",
   "execution_count": 10,
   "metadata": {},
   "outputs": [],
   "source": [
    "for week in weekly_points:\n",
    "    scores[week] = []\n",
    "    for roster in range (12):\n",
    "        scores[week].append(weekly_points[week][roster][roster+1])\n",
    "    scores[week].sort()\n",
    "\n",
    "\n",
    "    #for roster in weekly_points[week]:\n",
    "     #   print(scores)\n",
    "        #for scores in weekly_points[week][roster]:\n",
    "         #   print(scores)\n",
    "          #  print(weekly_points[week][roster][scores])\n",
    "        "
   ]
  },
  {
   "cell_type": "code",
   "execution_count": 11,
   "metadata": {},
   "outputs": [],
   "source": [
    "for week in range (1,15):\n",
    "    matchups = requests.get(gahanna_api + '/matchups/' + str(week)).json()\n",
    "    for roster in rosters:\n",
    "        for match in matchups:\n",
    "            if roster['roster_id'] == match['roster_id']:\n",
    "                if(match['points'] > 0):\n",
    "                    for i in range(0, len(scores[week])):\n",
    "                        for j in range(i+1, len(scores[week])):\n",
    "                            if(scores[week][i] == scores[week][j] == match['points']):\n",
    "                                roster['weekly_points_score'] += 0.5\n",
    "                    roster['weekly_points_score'] += scores[week].index(match['points']) + 1"
   ]
  },
  {
   "cell_type": "code",
   "execution_count": 12,
   "metadata": {},
   "outputs": [],
   "source": [
    "for user in users:\n",
    "    for roster in rosters:\n",
    "        if roster['owner_id'] == user['user_id']:\n",
    "            user['standings_points'] += roster['weekly_points_score']"
   ]
  },
  {
   "cell_type": "code",
   "execution_count": 13,
   "metadata": {},
   "outputs": [
    {
     "name": "stdout",
     "output_type": "stream",
     "text": [
      "26\n",
      "21.5\n",
      "26\n",
      "17\n",
      "26\n",
      "21\n",
      "13\n",
      "26\n",
      "13\n",
      "15\n",
      "39\n",
      "18\n",
      "0\n",
      "9\n",
      "26\n",
      "29\n",
      "0\n",
      "14\n",
      "13\n",
      "19\n",
      "26\n",
      "23\n",
      "26\n",
      "21.5\n"
     ]
    }
   ],
   "source": [
    "for user in users:\n",
    "    for roster in rosters:\n",
    "        if roster['owner_id'] == user['user_id']:\n",
    "            print(roster['settings']['wins'] * 13)\n",
    "            print(user['standings_points'])\n",
    "            user['standings_points'] += roster['settings']['wins'] * 13\n",
    "            #user['standings_points'] += roster['settings']['ties'] * 0.5"
   ]
  },
  {
   "cell_type": "code",
   "execution_count": 14,
   "metadata": {},
   "outputs": [],
   "source": [
    "standings = {}"
   ]
  },
  {
   "cell_type": "code",
   "execution_count": 15,
   "metadata": {},
   "outputs": [
    {
     "name": "stdout",
     "output_type": "stream",
     "text": [
      "pottluke\n",
      "47.5\n",
      "kclark75\n",
      "43\n",
      "bhunk3\n",
      "47\n",
      "samshov\n",
      "39\n",
      "eferns14\n",
      "28\n",
      "MaxamillionG\n",
      "57\n",
      "frazdegod\n",
      "9\n",
      "Bcally96\n",
      "55\n",
      "Ecamm\n",
      "14\n",
      "sirbuzzington\n",
      "32\n",
      "rollconnor7\n",
      "49\n",
      "JustinCapriotti\n",
      "47.5\n"
     ]
    }
   ],
   "source": [
    "for user in users:\n",
    "    print(user['display_name'])\n",
    "    print(user['standings_points'])\n",
    "    standings[user['display_name']] = user['standings_points']"
   ]
  },
  {
   "cell_type": "code",
   "execution_count": 16,
   "metadata": {},
   "outputs": [],
   "source": [
    "standings = sorted(standings.items(), key=lambda x: x[1], reverse=True)"
   ]
  },
  {
   "cell_type": "code",
   "execution_count": 19,
   "metadata": {},
   "outputs": [
    {
     "name": "stdout",
     "output_type": "stream",
     "text": [
      "\n",
      "Playoffs:\n",
      "('MaxamillionG', 57)\n",
      "('Bcally96', 55)\n",
      "('rollconnor7', 49)\n",
      "('pottluke', 47.5)\n",
      "('JustinCapriotti', 47.5)\n",
      "('bhunk3', 47)\n",
      "\n",
      "Outside looking in:\n",
      "('kclark75', 43)\n",
      "('samshov', 39)\n",
      "('sirbuzzington', 32)\n",
      "('eferns14', 28)\n",
      "('Ecamm', 14)\n",
      "('frazdegod', 9)\n"
     ]
    }
   ],
   "source": [
    "print(\"\\nPlayoffs:\")\n",
    "for user in range (12):\n",
    "    if user == 6:\n",
    "        print(\"\\nOutside looking in:\")\n",
    "    print(standings[user])"
   ]
  }
 ],
 "metadata": {
  "kernelspec": {
   "display_name": "ds",
   "language": "python",
   "name": "python3"
  },
  "language_info": {
   "codemirror_mode": {
    "name": "ipython",
    "version": 3
   },
   "file_extension": ".py",
   "mimetype": "text/x-python",
   "name": "python",
   "nbconvert_exporter": "python",
   "pygments_lexer": "ipython3",
   "version": "3.10.12"
  },
  "orig_nbformat": 4
 },
 "nbformat": 4,
 "nbformat_minor": 2
}
