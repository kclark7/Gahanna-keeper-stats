{
 "cells": [
  {
   "cell_type": "code",
   "execution_count": 1,
   "metadata": {},
   "outputs": [],
   "source": [
    "import requests"
   ]
  },
  {
   "cell_type": "code",
   "execution_count": 2,
   "metadata": {},
   "outputs": [],
   "source": [
    "league_id = \"1253713259077324800\" #Gahanna Keeper\n",
    "sleeper_api = 'https://api.sleeper.app/v1/league/'\n",
    "league = requests.get(sleeper_api + league_id).json()"
   ]
  },
  {
   "cell_type": "code",
   "execution_count": 3,
   "metadata": {},
   "outputs": [],
   "source": [
    "gahanna_api = sleeper_api + league_id\n",
    "users = requests.get(gahanna_api + '/users').json()"
   ]
  },
  {
   "cell_type": "code",
   "execution_count": 4,
   "metadata": {},
   "outputs": [],
   "source": [
    "for user in users:\n",
    "    user['standings_points'] = 0\n",
    "\n",
    "\n"
   ]
  },
  {
   "cell_type": "code",
   "execution_count": 5,
   "metadata": {},
   "outputs": [],
   "source": [
    "rosters = requests.get(gahanna_api + '/rosters').json()\n"
   ]
  },
  {
   "cell_type": "code",
   "execution_count": 6,
   "metadata": {},
   "outputs": [],
   "source": [
    "for roster in rosters:\n",
    "    roster['weekly_points_score'] = 0"
   ]
  },
  {
   "cell_type": "code",
   "execution_count": 7,
   "metadata": {},
   "outputs": [],
   "source": [
    "weekly_points = {}\n",
    "#weekly_points[1] = 1"
   ]
  },
  {
   "cell_type": "code",
   "execution_count": 8,
   "metadata": {},
   "outputs": [
    {
     "name": "stdout",
     "output_type": "stream",
     "text": [
      "{1: [{1: 99.5}, {2: 103.8}, {3: 124.45}, {4: 93.55}, {5: 83.95}, {6: 104.5}, {7: 83.65}, {8: 116.9}, {9: 103.65}, {10: 123.8}, {11: 121.05}, {12: 112.3}], 2: [{1: 0.0}, {2: 0.0}, {3: 0.0}, {4: 0.0}, {5: 0.0}, {6: 0.0}, {7: 0.0}, {8: 0.0}, {9: 0.0}, {10: 0.0}, {11: 0.0}, {12: 0.0}], 3: [{1: 0.0}, {2: 0.0}, {3: 0.0}, {4: 0.0}, {5: 0.0}, {6: 0.0}, {7: 0.0}, {8: 0.0}, {9: 0.0}, {10: 0.0}, {11: 0.0}, {12: 0.0}], 4: [{1: 0.0}, {2: 0.0}, {3: 0.0}, {4: 0.0}, {5: 0.0}, {6: 0.0}, {7: 0.0}, {8: 0.0}, {9: 0.0}, {10: 0.0}, {11: 0.0}, {12: 0.0}], 5: [{1: 0.0}, {2: 0.0}, {3: 0.0}, {4: 0.0}, {5: 0.0}, {6: 0.0}, {7: 0.0}, {8: 0.0}, {9: 0.0}, {10: 0.0}, {11: 0.0}, {12: 0.0}], 6: [{1: 0.0}, {2: 0.0}, {3: 0.0}, {4: 0.0}, {5: 0.0}, {6: 0.0}, {7: 0.0}, {8: 0.0}, {9: 0.0}, {10: 0.0}, {11: 0.0}, {12: 0.0}], 7: [{1: 0.0}, {2: 0.0}, {3: 0.0}, {4: 0.0}, {5: 0.0}, {6: 0.0}, {7: 0.0}, {8: 0.0}, {9: 0.0}, {10: 0.0}, {11: 0.0}, {12: 0.0}], 8: [{1: 0.0}, {2: 0.0}, {3: 0.0}, {4: 0.0}, {5: 0.0}, {6: 0.0}, {7: 0.0}, {8: 0.0}, {9: 0.0}, {10: 0.0}, {11: 0.0}, {12: 0.0}], 9: [{1: 0.0}, {2: 0.0}, {3: 0.0}, {4: 0.0}, {5: 0.0}, {6: 0.0}, {7: 0.0}, {8: 0.0}, {9: 0.0}, {10: 0.0}, {11: 0.0}, {12: 0.0}], 10: [{1: 0.0}, {2: 0.0}, {3: 0.0}, {4: 0.0}, {5: 0.0}, {6: 0.0}, {7: 0.0}, {8: 0.0}, {9: 0.0}, {10: 0.0}, {11: 0.0}, {12: 0.0}], 11: [{1: 0.0}, {2: 0.0}, {3: 0.0}, {4: 0.0}, {5: 0.0}, {6: 0.0}, {7: 0.0}, {8: 0.0}, {9: 0.0}, {10: 0.0}, {11: 0.0}, {12: 0.0}], 12: [{1: 0.0}, {2: 0.0}, {3: 0.0}, {4: 0.0}, {5: 0.0}, {6: 0.0}, {7: 0.0}, {8: 0.0}, {9: 0.0}, {10: 0.0}, {11: 0.0}, {12: 0.0}], 13: [{1: 0.0}, {2: 0.0}, {3: 0.0}, {4: 0.0}, {5: 0.0}, {6: 0.0}, {7: 0.0}, {8: 0.0}, {9: 0.0}, {10: 0.0}, {11: 0.0}, {12: 0.0}], 14: [{1: 0.0}, {2: 0.0}, {3: 0.0}, {4: 0.0}, {5: 0.0}, {6: 0.0}, {7: 0.0}, {8: 0.0}, {9: 0.0}, {10: 0.0}, {11: 0.0}, {12: 0.0}]}\n"
     ]
    }
   ],
   "source": [
    "for week in range(1,15):\n",
    "    weekly_points[week] = []\n",
    "    matchups = requests.get(gahanna_api + '/matchups/' + str(week)).json()\n",
    "    for match in matchups:\n",
    "        weekly_points[week].append({match['roster_id'] : match['points']})\n",
    "print(weekly_points)"
   ]
  },
  {
   "cell_type": "code",
   "execution_count": 9,
   "metadata": {},
   "outputs": [],
   "source": [
    "scores = {\n",
    "    1:[],\n",
    "    2:[],\n",
    "    3:[],\n",
    "    4:[],\n",
    "    5:[],\n",
    "    6:[],\n",
    "    7:[],\n",
    "    8:[],\n",
    "    9:[],\n",
    "    10:[],\n",
    "    11:[],\n",
    "    12:[],\n",
    "    13:[],\n",
    "    14:[]\n",
    "    }"
   ]
  },
  {
   "cell_type": "code",
   "execution_count": 10,
   "metadata": {},
   "outputs": [],
   "source": [
    "for week in weekly_points:\n",
    "    scores[week] = []\n",
    "    for roster in range (12):\n",
    "        scores[week].append(weekly_points[week][roster][roster+1])\n",
    "    scores[week].sort()\n",
    "\n",
    "\n",
    "    #for roster in weekly_points[week]:\n",
    "     #   print(scores)\n",
    "        #for scores in weekly_points[week][roster]:\n",
    "         #   print(scores)\n",
    "          #  print(weekly_points[week][roster][scores])\n",
    "        "
   ]
  },
  {
   "cell_type": "code",
   "execution_count": 11,
   "metadata": {},
   "outputs": [],
   "source": [
    "for week in range (1,15):\n",
    "    matchups = requests.get(gahanna_api + '/matchups/' + str(week)).json()\n",
    "    for roster in rosters:\n",
    "        for match in matchups:\n",
    "            if roster['roster_id'] == match['roster_id']:\n",
    "                if(match['points'] > 0):\n",
    "                    for i in range(0, len(scores[week])):\n",
    "                        for j in range(i+1, len(scores[week])):\n",
    "                            if(scores[week][i] == scores[week][j] == match['points']):\n",
    "                                roster['weekly_points_score'] += 0.5\n",
    "                    roster['weekly_points_score'] += scores[week].index(match['points']) + 1"
   ]
  },
  {
   "cell_type": "code",
   "execution_count": 12,
   "metadata": {},
   "outputs": [],
   "source": [
    "for user in users:\n",
    "    for roster in rosters:\n",
    "        if roster['owner_id'] == user['user_id']:\n",
    "            user['standings_points'] += roster['weekly_points_score']"
   ]
  },
  {
   "cell_type": "code",
   "execution_count": 13,
   "metadata": {},
   "outputs": [
    {
     "name": "stdout",
     "output_type": "stream",
     "text": [
      "13\n",
      "6\n",
      "13\n",
      "4\n",
      "0\n",
      "2\n",
      "13\n",
      "12\n",
      "0\n",
      "1\n",
      "0\n",
      "7\n",
      "0\n",
      "3\n",
      "13\n",
      "9\n",
      "0\n",
      "5\n",
      "13\n",
      "11\n",
      "0\n",
      "10\n",
      "13\n",
      "8\n"
     ]
    }
   ],
   "source": [
    "for user in users:\n",
    "    for roster in rosters:\n",
    "        if roster['owner_id'] == user['user_id']:\n",
    "            print(roster['settings']['wins'] * 13)\n",
    "            print(user['standings_points'])\n",
    "            user['standings_points'] += roster['settings']['wins'] * 13\n",
    "            #user['standings_points'] += roster['settings']['ties'] * 0.5"
   ]
  },
  {
   "cell_type": "code",
   "execution_count": 14,
   "metadata": {},
   "outputs": [],
   "source": [
    "standings = {}"
   ]
  },
  {
   "cell_type": "code",
   "execution_count": 15,
   "metadata": {},
   "outputs": [
    {
     "name": "stdout",
     "output_type": "stream",
     "text": [
      "pottluke\n",
      "19\n",
      "kclark75\n",
      "17\n",
      "bhunk3\n",
      "2\n",
      "samshov\n",
      "25\n",
      "eferns14\n",
      "1\n",
      "MaxamillionG\n",
      "7\n",
      "frazdegod\n",
      "3\n",
      "Bcally96\n",
      "22\n",
      "Ecamm\n",
      "5\n",
      "sirbuzzington\n",
      "24\n",
      "rollconnor7\n",
      "10\n",
      "JustinCapriotti\n",
      "21\n"
     ]
    }
   ],
   "source": [
    "for user in users:\n",
    "    print(user['display_name'])\n",
    "    print(user['standings_points'])\n",
    "    standings[user['display_name']] = user['standings_points']"
   ]
  },
  {
   "cell_type": "code",
   "execution_count": 16,
   "metadata": {},
   "outputs": [],
   "source": [
    "standings = sorted(standings.items(), key=lambda x: x[1], reverse=True)"
   ]
  },
  {
   "cell_type": "code",
   "execution_count": 17,
   "metadata": {},
   "outputs": [
    {
     "name": "stdout",
     "output_type": "stream",
     "text": [
      "\n",
      "Playoffs:\n",
      "('samshov', 25)\n",
      "('sirbuzzington', 24)\n",
      "('Bcally96', 22)\n",
      "('JustinCapriotti', 21)\n",
      "('pottluke', 19)\n",
      "('kclark75', 17)\n",
      "\n",
      "Outside looking in:\n",
      "('rollconnor7', 10)\n",
      "('MaxamillionG', 7)\n",
      "('Ecamm', 5)\n",
      "('frazdegod', 3)\n",
      "('bhunk3', 2)\n",
      "('eferns14', 1)\n"
     ]
    }
   ],
   "source": [
    "print(\"\\nPlayoffs:\")\n",
    "for user in range (12):\n",
    "    if user == 6:\n",
    "        print(\"\\nOutside looking in:\")\n",
    "    print(standings[user])"
   ]
  }
 ],
 "metadata": {
  "kernelspec": {
   "display_name": "ds",
   "language": "python",
   "name": "python3"
  },
  "language_info": {
   "codemirror_mode": {
    "name": "ipython",
    "version": 3
   },
   "file_extension": ".py",
   "mimetype": "text/x-python",
   "name": "python",
   "nbconvert_exporter": "python",
   "pygments_lexer": "ipython3",
   "version": "3.10.12"
  },
  "orig_nbformat": 4
 },
 "nbformat": 4,
 "nbformat_minor": 2
}
